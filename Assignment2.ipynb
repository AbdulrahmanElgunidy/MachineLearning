{
  "cells": [
    {
      "cell_type": "markdown",
      "source": [
        "#  problem 2.1"
      ],
      "metadata": {
        "id": "NkxzfvgfzQLB"
      }
    },
    {
      "cell_type": "code",
      "execution_count": 1,
      "metadata": {
        "id": "RVe9Awe8oCnQ"
      },
      "outputs": [],
      "source": [
        "import pandas as pd\n",
        "from sklearn.datasets import load_wine\n",
        "import numpy as np\n",
        "import csv\n",
        "import matplotlib.pyplot as plt\n",
        "import seaborn as sns\n",
        "from sklearn import preprocessing\n",
        "from sklearn.utils import Bunch\n",
        "from sklearn.feature_selection import SelectKBest\n",
        "from sklearn.feature_selection import chi2\n",
        "from re import T\n",
        "from sklearn.svm import SVC\n",
        "from sklearn import svm, datasets\n",
        "from sklearn.linear_model import Perceptron\n",
        "from matplotlib.colors import ListedColormap\n",
        "from sklearn.metrics import plot_confusion_matrix ,accuracy_score\n",
        "from sklearn.metrics import confusion_matrix, ConfusionMatrixDisplay\n",
        "from sklearn.model_selection import train_test_split\n",
        "from sklearn.metrics import classification_report\n",
        "from sklearn.preprocessing import MultiLabelBinarizer\n",
        "import matplotlib.lines as mlines\n",
        "from sklearn.feature_selection import f_classif\n",
        "le = preprocessing.LabelEncoder()\n",
        "\n"
      ]
    },
    {
      "cell_type": "code",
      "source": [
        "def plotData(features, labels, cls, class_names):\n",
        "  colors = ['r', 'b', 'g']\n",
        "  markers = ['o', '*', '+']\n",
        "  for class_index in range(len(cls)):\n",
        "    plt.scatter(features[labels == cls[class_index],0], features[labels == cls[class_index],1], c=colors[class_index], marker=markers[class_index], label=class_names[cls[class_index]])\n",
        "  Title = \"DUMD Dataset with {n} classes\".format(n=int(len(cls)))\n",
        "  plt.title(Title)\n",
        "  plt.xlabel(' PEG')\n",
        "  plt.ylabel(' LPR ')\n",
        "  plt.legend()"
      ],
      "metadata": {
        "id": "MN2PVVoasCm4"
      },
      "execution_count": 2,
      "outputs": []
    },
    {
      "cell_type": "code",
      "source": [
        "def plotRegions(model, X):\n",
        "  x_min, x_max = X[:, 0].min() - 1, X[:, 0].max() + 1\n",
        "  y_min, y_max = X[:, 1].min() - 1, X[:, 1].max() + 1\n",
        "  XX, YY = np.meshgrid(np.arange(x_min, x_max, 0.01), np.arange(y_min, y_max, 0.01))\n",
        "\n",
        "  z = model.predict(np.c_[XX.ravel(), YY.ravel()])\n",
        "  ZZ = z.reshape(XX.shape)\n",
        "  plt.contourf(XX, YY, ZZ, alpha=0.2)"
      ],
      "metadata": {
        "id": "c-n9FtdOsELl"
      },
      "execution_count": 3,
      "outputs": []
    },
    {
      "cell_type": "code",
      "source": [
        "def choseing_2f(X,y):\n",
        "  test = SelectKBest(score_func=f_classif, k=2)\n",
        "  fit = test.fit(X, y)\n",
        "  X_new=test.fit_transform(X, y)\n",
        "  print(fit.scores_)\n",
        "  return X_new\n",
        "\n"
      ],
      "metadata": {
        "id": "NI_g1VzwssDY"
      },
      "execution_count": 4,
      "outputs": []
    },
    {
      "cell_type": "code",
      "source": [
        "def new_tranin(X,y):\n",
        "  NewX=choseing_2f(X,y)\n",
        "  X_train, X_test, y_train, y_test = train_test_split(NewX, y, test_size = 0.20, random_state = 0)\n",
        "  model = GaussianNB()\n",
        "\n",
        "  model.fit(X_train, y_train)\n",
        "  class_names={0: 'Class_0', 1: 'Class_1', 2: 'Class_2'}\n",
        "  cls_new=[0,1,2]\n",
        "  plotData(X_test, y_test, cls_new, class_names)\n",
        "  plotRegions(model, X_test)\n",
        "  plt.legend(loc=\"upper left\")\n",
        "  plt.show()\n",
        "\n",
        "\n"
      ],
      "metadata": {
        "id": "Q3fi05SZu-pr"
      },
      "execution_count": 5,
      "outputs": []
    },
    {
      "cell_type": "code",
      "source": [
        "data = load_wine()\n",
        "X=data.data\n",
        "y=data.target"
      ],
      "metadata": {
        "id": "2LGDMZSZoItN"
      },
      "execution_count": 6,
      "outputs": []
    },
    {
      "cell_type": "code",
      "source": [
        ""
      ],
      "metadata": {
        "id": "yu4hZwsIpCXl"
      },
      "execution_count": 6,
      "outputs": []
    },
    {
      "cell_type": "code",
      "source": [
        "# Splitting the dataset into the Training set and Test set\n",
        "X_train, X_test, y_train, y_test = train_test_split(X, y, test_size = 0.20, random_state = 0)\n"
      ],
      "metadata": {
        "id": "yEg32WmyoOZe"
      },
      "execution_count": 7,
      "outputs": []
    },
    {
      "cell_type": "code",
      "source": [
        "# Fitting Naive Bayes to the Training set\n",
        "from sklearn.naive_bayes import GaussianNB\n",
        "classifier = GaussianNB()\n",
        "classifier.fit(X_train, y_train)"
      ],
      "metadata": {
        "colab": {
          "base_uri": "https://localhost:8080/"
        },
        "id": "WOwcWtH9oSG9",
        "outputId": "35ee398e-e089-4d42-bf52-ab0068f05f3d"
      },
      "execution_count": 8,
      "outputs": [
        {
          "output_type": "execute_result",
          "data": {
            "text/plain": [
              "GaussianNB()"
            ]
          },
          "metadata": {},
          "execution_count": 8
        }
      ]
    },
    {
      "cell_type": "code",
      "source": [
        "# Predicting the Test set results\n",
        "y_pred = classifier.predict(X_test)"
      ],
      "metadata": {
        "id": "0Npqb-4-ok2o"
      },
      "execution_count": 9,
      "outputs": []
    },
    {
      "cell_type": "code",
      "source": [
        "\n",
        "# Making the Confusion Matrix\n",
        "from sklearn.metrics import confusion_matrix\n",
        "cm = confusion_matrix(y_test, y_pred)\n",
        "sns.heatmap(cm, annot = True)\n"
      ],
      "metadata": {
        "colab": {
          "base_uri": "https://localhost:8080/",
          "height": 287
        },
        "id": "j0pwSDUfonZt",
        "outputId": "90563843-f68d-4d89-e727-a9fa2268f230"
      },
      "execution_count": 10,
      "outputs": [
        {
          "output_type": "execute_result",
          "data": {
            "text/plain": [
              "<matplotlib.axes._subplots.AxesSubplot at 0x7f856cd80ad0>"
            ]
          },
          "metadata": {},
          "execution_count": 10
        },
        {
          "output_type": "display_data",
          "data": {
            "text/plain": [
              "<Figure size 432x288 with 2 Axes>"
            ],
            "image/png": "[encoded data removed]"
          },
          "metadata": {
            "needs_background": "light"
          }
        }
      ]
    },
    {
      "cell_type": "code",
      "source": [
        "print(classification_report(y_test, y_pred, target_names=data.target_names))"
      ],
      "metadata": {
        "colab": {
          "base_uri": "https://localhost:8080/"
        },
        "id": "yiYs6SMJoVQb",
        "outputId": "1c326666-8c84-419c-b532-fa87db7ba3df"
      },
      "execution_count": 11,
      "outputs": [
        {
          "output_type": "stream",
          "name": "stdout",
          "text": [
            "              precision    recall  f1-score   support\n",
            "\n",
            "     class_0       0.88      1.00      0.93        14\n",
            "     class_1       1.00      0.81      0.90        16\n",
            "     class_2       0.86      1.00      0.92         6\n",
            "\n",
            "    accuracy                           0.92        36\n",
            "   macro avg       0.91      0.94      0.92        36\n",
            "weighted avg       0.93      0.92      0.92        36\n",
            "\n"
          ]
        }
      ]
    },
    {
      "cell_type": "code",
      "source": [
        "new_tranin(X,y)"
      ],
      "metadata": {
        "colab": {
          "base_uri": "https://localhost:8080/",
          "height": 350
        },
        "id": "OZaQlNVjpWSq",
        "outputId": "d8b0172d-dcbd-43e1-a0be-803ebdbc5dbb"
      },
      "execution_count": 12,
      "outputs": [
        {
          "output_type": "stream",
          "name": "stdout",
          "text": [
            "[135.07762424  36.94342496  13.3129012   35.77163741  12.42958434\n",
            "  93.73300962 233.92587268  27.57541715  30.27138317 120.66401844\n",
            " 101.31679539 189.97232058 207.9203739 ]\n"
          ]
        },
        {
          "output_type": "display_data",
          "data": {
            "text/plain": [
              "<Figure size 432x288 with 1 Axes>"
            ],
            "image/png": "[encoded data removed]"
          },
          "metadata": {
            "needs_background": "light"
          }
        }
      ]
    },
    {
      "cell_type": "code",
      "source": [
        ""
      ],
      "metadata": {
        "id": "rrCJSyWy0pZC"
      },
      "execution_count": null,
      "outputs": []
    },
    {
      "cell_type": "markdown",
      "source": [
        "# Problem 2.2"
      ],
      "metadata": {
        "id": "y_-3HCkN02v5"
      }
    },
    {
      "cell_type": "code",
      "execution_count": 13,
      "metadata": {
        "id": "Hvrg0foZzqPJ"
      },
      "outputs": [],
      "source": [
        "import numpy as np\n",
        "import csv\n",
        "import pandas as pd\n",
        "import matplotlib.pyplot as plt\n",
        "import seaborn as sns\n",
        "from sklearn import preprocessing\n",
        "from sklearn.utils import Bunch\n",
        "from sklearn.feature_selection import SelectKBest\n",
        "from sklearn.feature_selection import chi2\n",
        "from re import T\n",
        "import time\n",
        "from sklearn.neighbors import KNeighborsClassifier\n",
        "from sklearn import svm, datasets\n",
        "from sklearn.linear_model import Perceptron\n",
        "from matplotlib.colors import ListedColormap\n",
        "from sklearn.metrics import plot_confusion_matrix ,accuracy_score\n",
        "from sklearn.metrics import confusion_matrix, ConfusionMatrixDisplay\n",
        "from sklearn.preprocessing import MultiLabelBinarizer\n",
        "import matplotlib.lines as mlines\n",
        "from sklearn.feature_selection import f_classif\n",
        "from sklearn.metrics import accuracy_score \n",
        "from datetime import datetime as dt\n",
        "import timeit\n"
      ]
    },
    {
      "cell_type": "code",
      "execution_count": 14,
      "metadata": {
        "id": "nWpLasebFbcR"
      },
      "outputs": [],
      "source": [
        "def rename_cul(data,name):\n",
        "  data.columns =name\n",
        "\n",
        "  return data"
      ]
    },
    {
      "cell_type": "code",
      "execution_count": 15,
      "metadata": {
        "id": "Vu8BsWChUoNr"
      },
      "outputs": [],
      "source": [
        "def getAccuracy(model, x, y):\n",
        "  y_pred=model.predict(x)\n",
        "\n",
        "  return accuracy_score(y, y_pred)*100"
      ]
    },
    {
      "cell_type": "code",
      "execution_count": 16,
      "metadata": {
        "id": "FkYirxnLHMpO"
      },
      "outputs": [],
      "source": [
        "def label_the_data(data):\n",
        "  le = preprocessing.LabelEncoder()\n",
        "\n",
        "  for i in range(len(data.columns)):\n",
        "    data.iloc[:,i]=le.fit_transform(data.iloc[:,i])\n",
        "  return data\n",
        "\n"
      ]
    },
    {
      "cell_type": "code",
      "execution_count": 17,
      "metadata": {
        "id": "YHspazfrEPzb"
      },
      "outputs": [],
      "source": [
        "def geting_thedatareaady(data):\n",
        "  data[0]=data[0].replace({'low':'a',\"med\":'b',\"high\":'c',\"vhigh\":'d'})\n",
        "  data[1]=data[1].replace({'low':'a',\"med\":'b',\"high\":'c',\"vhigh\":'d'})\n",
        "  data[2]=data[2].replace({'5more':'6'})\n",
        "  data[3]=data[3].replace({'more':'6'})\n",
        "  data[4]=data[4].replace({'small':'a',\"med\":'b',\"big\":'c'})\n",
        "  data[5]=data[5].replace({'low':'a',\"med\":'b',\"high\":'c'})\n",
        "  data[6]=data[6].replace({'unacc':'a',\"acc\":'b',\"good\":'c',\"vgood\":'d'})\n",
        "\n",
        "  return data"
      ]
    },
    {
      "cell_type": "code",
      "execution_count": 18,
      "metadata": {
        "id": "oY8aiCHS2G7_"
      },
      "outputs": [],
      "source": [
        "def data_m_split(data):\n",
        "  data= data.sample(frac=1).reset_index(drop=True)\n",
        "  X_train=data.iloc[0:1000,:-1]\n",
        "  y_train=data.iloc[0:1000,-1]\n",
        "  X_val=data.iloc[1000:1300,:-1]\n",
        "  y_val=data.iloc[1000:1300,-1]\n",
        "  X_test=data.iloc[1300:1728,:-1]\n",
        "  y_test=data.iloc[1300:1728,-1]\n",
        "\n",
        "  return X_train ,y_train,X_val ,y_val,X_test ,y_test"
      ]
    },
    {
      "cell_type": "code",
      "execution_count": 19,
      "metadata": {
        "id": "dsdjNkaoQ8_S"
      },
      "outputs": [],
      "source": [
        "def training_ntimes(X_train ,y_train,X_val ,y_val,X_test ,y_test ,num):\n",
        "  models=[]\n",
        "  valllist=[]\n",
        "  testlist=[]\n",
        "  for i in range(1,num+1):\n",
        "    classifier = KNeighborsClassifier(n_neighbors = 2,metric='euclidean')\n",
        "    model=classifier.fit(X_train[0:100*i], y_train[0:100*i])\n",
        "    val=getAccuracy(model, X_val, y_val)\n",
        "    \n",
        "    test=getAccuracy(model, X_test, y_test)\n",
        "    valllist.append(val)\n",
        "    testlist.append(test)\n",
        "  return models,valllist,testlist"
      ]
    },
    {
      "cell_type": "code",
      "execution_count": 20,
      "metadata": {
        "id": "oXIWkc9taBqZ"
      },
      "outputs": [],
      "source": [
        "def best_k(X_train ,y_train,X_val ,y_val,X_test ,y_test ,k_range):\n",
        "# We can create Python dictionary using [] or dict()\n",
        "  scores = []\n",
        "\n",
        "  for k in range(1,k_range+1):\n",
        "      knn = KNeighborsClassifier(n_neighbors=k,metric='euclidean')\n",
        "      knn.fit(X_train, y_train)\n",
        "      y_pred = knn.predict(X_test)\n",
        "      scores.append(accuracy_score(y_test, y_pred))\n",
        "\n",
        "  return scores\n"
      ]
    },
    {
      "cell_type": "code",
      "execution_count": 21,
      "metadata": {
        "id": "gY5a6GM3YsLD"
      },
      "outputs": [],
      "source": [
        "def plot(val,test):\n",
        "  x=['10%','20%','30%','40%','50%','60%','70%','80%','90%','100%']\n",
        "  y_1=val\n",
        "  y_2=test\n",
        "  \n",
        "  plt.plot(x, y_1 ,label='val accoure')\n",
        "  plt.plot(x, y_2,label='test accoure')\n",
        "  \n",
        "  plt.title('All accuercy Vs valdition over parts of the traning')\n",
        "  plt.xlabel('training data %')\n",
        "  plt.ylabel('accuercy')\n",
        "  plt.legend()\n",
        "  plt.show()"
      ]
    },
    {
      "cell_type": "code",
      "execution_count": 22,
      "metadata": {
        "id": "QiZxxFZDg1Wu"
      },
      "outputs": [],
      "source": [
        "def plotK(val):\n",
        "  x=range(1,len(val)+1)\n",
        "  y_1=val\n",
        "  plt.plot(x, y_1,label='test accoure')\n",
        "  \n",
        "  plt.title('All accuercy Vs valdition over parts of the traning')\n",
        "  plt.xlabel('n no.')\n",
        "  plt.ylabel('accuercy')\n",
        "  plt.legend()\n",
        "  plt.show()"
      ]
    },
    {
      "cell_type": "code",
      "execution_count": 23,
      "metadata": {
        "id": "zNNnag664chG"
      },
      "outputs": [],
      "source": [
        "def timecalI(X_train ,y_train,i):\n",
        "  classifier = KNeighborsClassifier(n_neighbors = i,metric='euclidean')\n",
        "  model=classifier.fit(X_train, y_train)\n",
        "  return model\n",
        "\n",
        "  \n",
        "\n",
        "    \n",
        "\n"
      ]
    },
    {
      "cell_type": "code",
      "execution_count": 24,
      "metadata": {
        "id": "lmAdL192t_C_"
      },
      "outputs": [],
      "source": [
        "def infcalI(model ,X_y):\n",
        "  model.predict(X_y)\n",
        "  "
      ]
    },
    {
      "cell_type": "code",
      "execution_count": 25,
      "metadata": {
        "id": "ZW1YGsQEBLd7"
      },
      "outputs": [],
      "source": [
        "data =pd.read_csv('car_evaluation.csv',header=None)"
      ]
    },
    {
      "cell_type": "code",
      "execution_count": 26,
      "metadata": {
        "id": "b_4XucG6IUG7"
      },
      "outputs": [],
      "source": [
        "data=geting_thedatareaady(data)"
      ]
    },
    {
      "cell_type": "code",
      "execution_count": 27,
      "metadata": {
        "id": "9Y7lxv3HGONd"
      },
      "outputs": [],
      "source": [
        "data=rename_cul(data,['buying price','maintenance cost','number of doors','number of persons','lug_boot','safety','decision'])"
      ]
    },
    {
      "cell_type": "code",
      "execution_count": 28,
      "metadata": {
        "id": "BApKyBAnKV0H"
      },
      "outputs": [],
      "source": [
        "data=label_the_data(data)"
      ]
    },
    {
      "cell_type": "code",
      "execution_count": 29,
      "metadata": {
        "colab": {
          "base_uri": "https://localhost:8080/",
          "height": 206
        },
        "id": "x_zuQj8dE41u",
        "outputId": "beae28b4-821a-4f5a-ec0c-248f89c5df77"
      },
      "outputs": [
        {
          "output_type": "execute_result",
          "data": {
            "text/plain": [
              "   buying price  maintenance cost  number of doors  number of persons  \\\n",
              "0             3                 3                0                  0   \n",
              "1             3                 3                0                  0   \n",
              "2             3                 3                0                  0   \n",
              "3             3                 3                0                  0   \n",
              "4             3                 3                0                  0   \n",
              "\n",
              "   lug_boot  safety  decision  \n",
              "0         0       0         0  \n",
              "1         0       1         0  \n",
              "2         0       2         0  \n",
              "3         1       0         0  \n",
              "4         1       1         0  "
            ],
            "text/html": [
              "\n",
              "  <div id=\"df-6df107eb-13f3-4de0-839d-1a4d908b18e9\">\n",
              "    <div class=\"colab-df-container\">\n",
              "      <div>\n",
              "<style scoped>\n",
              "    .dataframe tbody tr th:only-of-type {\n",
              "        vertical-align: middle;\n",
              "    }\n",
              "\n",
              "    .dataframe tbody tr th {\n",
              "        vertical-align: top;\n",
              "    }\n",
              "\n",
              "    .dataframe thead th {\n",
              "        text-align: right;\n",
              "    }\n",
              "</style>\n",
              "<table border=\"1\" class=\"dataframe\">\n",
              "  <thead>\n",
              "    <tr style=\"text-align: right;\">\n",
              "      <th></th>\n",
              "      <th>buying price</th>\n",
              "      <th>maintenance cost</th>\n",
              "      <th>number of doors</th>\n",
              "      <th>number of persons</th>\n",
              "      <th>lug_boot</th>\n",
              "      <th>safety</th>\n",
              "      <th>decision</th>\n",
              "    </tr>\n",
              "  </thead>\n",
              "  <tbody>\n",
              "    <tr>\n",
              "      <th>0</th>\n",
              "      <td>3</td>\n",
              "      <td>3</td>\n",
              "      <td>0</td>\n",
              "      <td>0</td>\n",
              "      <td>0</td>\n",
              "      <td>0</td>\n",
              "      <td>0</td>\n",
              "    </tr>\n",
              "    <tr>\n",
              "      <th>1</th>\n",
              "      <td>3</td>\n",
              "      <td>3</td>\n",
              "      <td>0</td>\n",
              "      <td>0</td>\n",
              "      <td>0</td>\n",
              "      <td>1</td>\n",
              "      <td>0</td>\n",
              "    </tr>\n",
              "    <tr>\n",
              "      <th>2</th>\n",
              "      <td>3</td>\n",
              "      <td>3</td>\n",
              "      <td>0</td>\n",
              "      <td>0</td>\n",
              "      <td>0</td>\n",
              "      <td>2</td>\n",
              "      <td>0</td>\n",
              "    </tr>\n",
              "    <tr>\n",
              "      <th>3</th>\n",
              "      <td>3</td>\n",
              "      <td>3</td>\n",
              "      <td>0</td>\n",
              "      <td>0</td>\n",
              "      <td>1</td>\n",
              "      <td>0</td>\n",
              "      <td>0</td>\n",
              "    </tr>\n",
              "    <tr>\n",
              "      <th>4</th>\n",
              "      <td>3</td>\n",
              "      <td>3</td>\n",
              "      <td>0</td>\n",
              "      <td>0</td>\n",
              "      <td>1</td>\n",
              "      <td>1</td>\n",
              "      <td>0</td>\n",
              "    </tr>\n",
              "  </tbody>\n",
              "</table>\n",
              "</div>\n",
              "      <button class=\"colab-df-convert\" onclick=\"convertToInteractive('df-6df107eb-13f3-4de0-839d-1a4d908b18e9')\"\n",
              "              title=\"Convert this dataframe to an interactive table.\"\n",
              "              style=\"display:none;\">\n",
              "        \n",
              "  <svg xmlns=\"http://www.w3.org/2000/svg\" height=\"24px\"viewBox=\"0 0 24 24\"\n",
              "       width=\"24px\">\n",
              "    <path d=\"M0 0h24v24H0V0z\" fill=\"none\"/>\n",
              "    <path d=\"M18.56 5.44l.94 2.06.94-2.06 2.06-.94-2.06-.94-.94-2.06-.94 2.06-2.06.94zm-11 1L8.5 8.5l.94-2.06 2.06-.94-2.06-.94L8.5 2.5l-.94 2.06-2.06.94zm10 10l.94 2.06.94-2.06 2.06-.94-2.06-.94-.94-2.06-.94 2.06-2.06.94z\"/><path d=\"M17.41 7.96l-1.37-1.37c-.4-.4-.92-.59-1.43-.59-.52 0-1.04.2-1.43.59L10.3 9.45l-7.72 7.72c-.78.78-.78 2.05 0 2.83L4 21.41c.39.39.9.59 1.41.59.51 0 1.02-.2 1.41-.59l7.78-7.78 2.81-2.81c.8-.78.8-2.07 0-2.86zM5.41 20L4 18.59l7.72-7.72 1.47 1.35L5.41 20z\"/>\n",
              "  </svg>\n",
              "      </button>\n",
              "      \n",
              "  <style>\n",
              "    .colab-df-container {\n",
              "      display:flex;\n",
              "      flex-wrap:wrap;\n",
              "      gap: 12px;\n",
              "    }\n",
              "\n",
              "    .colab-df-convert {\n",
              "      background-color: #E8F0FE;\n",
              "      border: none;\n",
              "      border-radius: 50%;\n",
              "      cursor: pointer;\n",
              "      display: none;\n",
              "      fill: #1967D2;\n",
              "      height: 32px;\n",
              "      padding: 0 0 0 0;\n",
              "      width: 32px;\n",
              "    }\n",
              "\n",
              "    .colab-df-convert:hover {\n",
              "      background-color: #E2EBFA;\n",
              "      box-shadow: 0px 1px 2px rgba(60, 64, 67, 0.3), 0px 1px 3px 1px rgba(60, 64, 67, 0.15);\n",
              "      fill: #174EA6;\n",
              "    }\n",
              "\n",
              "    [theme=dark] .colab-df-convert {\n",
              "      background-color: #3B4455;\n",
              "      fill: #D2E3FC;\n",
              "    }\n",
              "\n",
              "    [theme=dark] .colab-df-convert:hover {\n",
              "      background-color: #434B5C;\n",
              "      box-shadow: 0px 1px 3px 1px rgba(0, 0, 0, 0.15);\n",
              "      filter: drop-shadow(0px 1px 2px rgba(0, 0, 0, 0.3));\n",
              "      fill: #FFFFFF;\n",
              "    }\n",
              "  </style>\n",
              "\n",
              "      <script>\n",
              "        const buttonEl =\n",
              "          document.querySelector('#df-6df107eb-13f3-4de0-839d-1a4d908b18e9 button.colab-df-convert');\n",
              "        buttonEl.style.display =\n",
              "          google.colab.kernel.accessAllowed ? 'block' : 'none';\n",
              "\n",
              "        async function convertToInteractive(key) {\n",
              "          const element = document.querySelector('#df-6df107eb-13f3-4de0-839d-1a4d908b18e9');\n",
              "          const dataTable =\n",
              "            await google.colab.kernel.invokeFunction('convertToInteractive',\n",
              "                                                     [key], {});\n",
              "          if (!dataTable) return;\n",
              "\n",
              "          const docLinkHtml = 'Like what you see? Visit the ' +\n",
              "            '<a target=\"_blank\" href=https://colab.research.google.com/notebooks/data_table.ipynb>data table notebook</a>'\n",
              "            + ' to learn more about interactive tables.';\n",
              "          element.innerHTML = '';\n",
              "          dataTable['output_type'] = 'display_data';\n",
              "          await google.colab.output.renderOutput(dataTable, element);\n",
              "          const docLink = document.createElement('div');\n",
              "          docLink.innerHTML = docLinkHtml;\n",
              "          element.appendChild(docLink);\n",
              "        }\n",
              "      </script>\n",
              "    </div>\n",
              "  </div>\n",
              "  "
            ]
          },
          "metadata": {},
          "execution_count": 29
        }
      ],
      "source": [
        "data.head()"
      ]
    },
    {
      "cell_type": "code",
      "execution_count": 30,
      "metadata": {
        "id": "Ru_XbAoca-wB"
      },
      "outputs": [],
      "source": [
        "X_train ,y_train,X_val ,y_val,X_test ,y_test=data_m_split(data)"
      ]
    },
    {
      "cell_type": "code",
      "execution_count": 31,
      "metadata": {
        "id": "N1gNKAwPBeE_"
      },
      "outputs": [],
      "source": [
        "models,vals,tests=training_ntimes(X_train ,y_train,X_val ,y_val,X_test ,y_test ,10)"
      ]
    },
    {
      "cell_type": "code",
      "execution_count": 32,
      "metadata": {
        "colab": {
          "base_uri": "https://localhost:8080/",
          "height": 295
        },
        "id": "AZ2a2GzHBnyz",
        "outputId": "2a0deeb2-fc4a-4914-9a2a-6e3eb4bfb1ee"
      },
      "outputs": [
        {
          "output_type": "display_data",
          "data": {
            "text/plain": [
              "<Figure size 432x288 with 1 Axes>"
            ],
            "image/png": "[encoded data removed]"
          },
          "metadata": {
            "needs_background": "light"
          }
        }
      ],
      "source": [
        "plot(vals,tests)"
      ]
    },
    {
      "cell_type": "code",
      "execution_count": 33,
      "metadata": {
        "id": "fCyemHEfXL0P"
      },
      "outputs": [],
      "source": [
        "scores=best_k(X_train ,y_train,X_val ,y_val,X_test ,y_test ,10)"
      ]
    },
    {
      "cell_type": "code",
      "execution_count": 34,
      "metadata": {
        "colab": {
          "base_uri": "https://localhost:8080/",
          "height": 295
        },
        "id": "8V1ByWh5fHlm",
        "outputId": "7524cbc0-93a6-4524-d389-fcec69b3840c"
      },
      "outputs": [
        {
          "output_type": "display_data",
          "data": {
            "text/plain": [
              "<Figure size 432x288 with 1 Axes>"
            ],
            "image/png": "[encoded data removed]"
          },
          "metadata": {
            "needs_background": "light"
          }
        }
      ],
      "source": [
        "plotK(scores)"
      ]
    },
    {
      "cell_type": "code",
      "execution_count": 35,
      "metadata": {
        "colab": {
          "base_uri": "https://localhost:8080/"
        },
        "id": "fg_5SnnNh36r",
        "outputId": "df71ddc5-8ca6-4594-c2c0-b1fba1449607"
      },
      "outputs": [
        {
          "output_type": "stream",
          "name": "stdout",
          "text": [
            "100 loops, best of 1: 4.33 ms per loop\n"
          ]
        },
        {
          "output_type": "execute_result",
          "data": {
            "text/plain": [
              "<TimeitResult : 100 loops, best of 1: 4.33 ms per loop>"
            ]
          },
          "metadata": {},
          "execution_count": 35
        }
      ],
      "source": [
        "%timeit -o -n100 -r1  timecalI(X_train ,y_train,2 )"
      ]
    },
    {
      "cell_type": "code",
      "execution_count": 36,
      "metadata": {
        "colab": {
          "base_uri": "https://localhost:8080/"
        },
        "id": "n4b2ueeanFtp",
        "outputId": "8365c48c-1666-4e87-a19d-0a63913571e2"
      },
      "outputs": [
        {
          "output_type": "stream",
          "name": "stdout",
          "text": [
            "100 loops, best of 1: 3.31 ms per loop\n"
          ]
        },
        {
          "output_type": "execute_result",
          "data": {
            "text/plain": [
              "<TimeitResult : 100 loops, best of 1: 3.31 ms per loop>"
            ]
          },
          "metadata": {},
          "execution_count": 36
        }
      ],
      "source": [
        "%timeit -o -n100 -r1   timecalI(X_train ,y_train,10 )\n"
      ]
    },
    {
      "cell_type": "code",
      "execution_count": 37,
      "metadata": {
        "colab": {
          "base_uri": "https://localhost:8080/"
        },
        "id": "ZUU7_wmjnFbX",
        "outputId": "9681be69-48ed-42db-8f31-41b03ce90035"
      },
      "outputs": [
        {
          "output_type": "stream",
          "name": "stdout",
          "text": [
            "100 loops, best of 1: 4.6 ms per loop\n"
          ]
        },
        {
          "output_type": "execute_result",
          "data": {
            "text/plain": [
              "<TimeitResult : 100 loops, best of 1: 4.6 ms per loop>"
            ]
          },
          "metadata": {},
          "execution_count": 37
        }
      ],
      "source": [
        "%timeit -o -n100  -r1  timecalI(X_train[:100] ,y_train[:100],2 )\n"
      ]
    },
    {
      "cell_type": "code",
      "execution_count": 38,
      "metadata": {
        "colab": {
          "base_uri": "https://localhost:8080/"
        },
        "id": "xcsA_ym2nE_U",
        "outputId": "f057a5e1-d483-40ca-d43d-e434bf23fdb7"
      },
      "outputs": [
        {
          "output_type": "stream",
          "name": "stdout",
          "text": [
            "100 loops, best of 1: 2.74 ms per loop\n"
          ]
        },
        {
          "output_type": "execute_result",
          "data": {
            "text/plain": [
              "<TimeitResult : 100 loops, best of 1: 2.74 ms per loop>"
            ]
          },
          "metadata": {},
          "execution_count": 38
        }
      ],
      "source": [
        "%timeit -o -n100 -r1  timecalI(X_train[:100] ,y_train[:100],10 )"
      ]
    },
    {
      "cell_type": "code",
      "execution_count": 39,
      "metadata": {
        "id": "-uYeQfE1PTSw"
      },
      "outputs": [],
      "source": [
        "mo1=timecalI(X_train ,y_train,2 )\n",
        "mo2=timecalI(X_train ,y_train,10 )\n",
        "mo3=timecalI(X_train[:100] ,y_train[:100],2 )\n",
        "mo4=timecalI(X_train[:100] ,y_train[:100],10 )"
      ]
    },
    {
      "cell_type": "code",
      "source": [
        "x1=%timeit -o -n10 -r1   infcalI(mo1 ,X_test)\n"
      ],
      "metadata": {
        "colab": {
          "base_uri": "https://localhost:8080/"
        },
        "id": "EpjSXGBzwy5N",
        "outputId": "06209649-2386-425d-f6b6-d409b627dd46"
      },
      "execution_count": 40,
      "outputs": [
        {
          "output_type": "stream",
          "name": "stdout",
          "text": [
            "10 loops, best of 1: 31.1 ms per loop\n"
          ]
        }
      ]
    },
    {
      "cell_type": "code",
      "source": [
        "x2=%timeit -o -n10 -r1   infcalI(mo2 ,X_test)"
      ],
      "metadata": {
        "colab": {
          "base_uri": "https://localhost:8080/"
        },
        "id": "uo8Etqmyw3y9",
        "outputId": "76b5a59f-2e7d-492e-b588-4b7c755e1964"
      },
      "execution_count": 41,
      "outputs": [
        {
          "output_type": "stream",
          "name": "stdout",
          "text": [
            "10 loops, best of 1: 28.7 ms per loop\n"
          ]
        }
      ]
    },
    {
      "cell_type": "code",
      "source": [
        "x3=%timeit -o -n10 -r1   infcalI(mo3 ,X_test)"
      ],
      "metadata": {
        "colab": {
          "base_uri": "https://localhost:8080/"
        },
        "id": "_JZ5EBxCw3jN",
        "outputId": "8dd83b04-5345-441a-ccdc-25d5419e5792"
      },
      "execution_count": 42,
      "outputs": [
        {
          "output_type": "stream",
          "name": "stdout",
          "text": [
            "10 loops, best of 1: 23.6 ms per loop\n"
          ]
        }
      ]
    },
    {
      "cell_type": "code",
      "execution_count": 43,
      "metadata": {
        "colab": {
          "base_uri": "https://localhost:8080/"
        },
        "id": "WRrSaX_rm3Gr",
        "outputId": "ec0983bf-29c0-4ac4-9428-36eb443a932d"
      },
      "outputs": [
        {
          "output_type": "stream",
          "name": "stdout",
          "text": [
            "10 loops, best of 1: 25.7 ms per loop\n"
          ]
        }
      ],
      "source": [
        "x4=%timeit -o -n10 -r1   infcalI(mo4 ,X_test)"
      ]
    },
    {
      "cell_type": "code",
      "execution_count": 44,
      "metadata": {
        "colab": {
          "base_uri": "https://localhost:8080/",
          "height": 452
        },
        "id": "5eE3s23faY3T",
        "outputId": "5bde85ec-c3bd-4cd2-d77d-4b1c512558e9"
      },
      "outputs": [
        {
          "output_type": "display_data",
          "data": {
            "text/plain": [
              "<Figure size 640x480 with 1 Axes>"
            ],
            "image/png": "[encoded data removed]"
          },
          "metadata": {}
        }
      ],
      "source": [
        "import matplotlib.pyplot as plt; plt.rcdefaults()\n",
        "import numpy as np\n",
        "import matplotlib.pyplot as plt\n",
        "\n",
        "objects = ('2_100%', '10_100%','2_10%', '10_10%' )\n",
        "y_pos = np.arange(len(objects))\n",
        "performance=[x1.worst,x2.worst,x3.worst,x4.worst]\n",
        "plt.bar(y_pos, performance, align='center', alpha=0.5)\n",
        "plt.xticks(y_pos, objects)\n",
        "plt.ylabel('Usage')\n",
        "plt.title('Programming language usage')\n",
        "\n",
        "plt.show()"
      ]
    },
    {
      "cell_type": "code",
      "execution_count": 44,
      "metadata": {
        "id": "X-6CxgkzglcK"
      },
      "outputs": [],
      "source": [
        ""
      ]
    }
  ],
  "metadata": {
    "colab": {
      "name": " Group19_HW2.ipynb",
      "provenance": []
    },
    "kernelspec": {
      "display_name": "Python 3",
      "name": "python3"
    },
    "language_info": {
      "name": "python"
    }
  },
  "nbformat": 4,
  "nbformat_minor": 0
}